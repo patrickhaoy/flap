{
 "cells": [
  {
   "cell_type": "code",
   "execution_count": 1,
   "metadata": {},
   "outputs": [],
   "source": [
    "import glob\n",
    "import matplotlib.pyplot as plt\n",
    "%matplotlib inline\n",
    "import numpy as np\n",
    "%load_ext autoreload\n",
    "%autoreload 2\n",
    "from rlkit.visualization import plot_util as plot\n",
    "plt.style.use(\"ggplot\")\n",
    "import matplotlib\n",
    "plot.configure_matplotlib(matplotlib)"
   ]
  },
  {
   "cell_type": "code",
   "execution_count": null,
   "metadata": {},
   "outputs": [],
   "source": [
    "dirs = [\n",
    "    '/path/to/experiments'\n",
    "]\n",
    "ours_exps = plot.load_exps(dirs, suppress_output=True, )"
   ]
  },
  {
   "cell_type": "code",
   "execution_count": null,
   "metadata": {},
   "outputs": [],
   "source": [
    "len(ours_exps)"
   ]
  },
  {
   "cell_type": "code",
   "execution_count": null,
   "metadata": {},
   "outputs": [],
   "source": [
    "vary = [\n",
    "    'exp_name',\n",
    "#     'trial_name',\n",
    "#     'method_name',\n",
    "    \n",
    "#     'trainer_kwargs.beta',\n",
    "#     'trainer_kwargs.quantile',\n",
    "#     'trainer_kwargs.kld_weight',\n",
    "#     'trainer_kwargs.bc',\n",
    "#     'trainer_kwargs.plan_vf_weight',\n",
    "#     'trainer_kwargs.reward_transform_kwargs.b',\n",
    "#     'reward_kwargs.epsilon',\n",
    "    ]\n",
    "split = [\n",
    "#     'exp_name',\n",
    "#     'trial_name',\n",
    "#     'method_name',\n",
    "    \n",
    "#     'trainer_kwargs.beta',\n",
    "#     'trainer_kwargs.quantile',\n",
    "#     'trainer_kwargs.kld_weight',\n",
    "#     'trainer_kwargs.bc',\n",
    "#     'trainer_kwargs.plan_vf_weight',\n",
    "#     'trainer_kwargs.reward_transform_kwargs.b',\n",
    "#     'reward_kwargs.epsilon',\n",
    "]\n",
    "default_vary={}\n",
    "\n",
    "plot.split(our_exps, [   \n",
    "#     'trainer/eval/Affordance Encoding Mu Mean',\n",
    "#     'trainer/eval/Affordance Encoding LogVar Mean',\n",
    "#     'trainer/eval/Affordance KLD',\n",
    "#     'trainer/eval/Affordance Pred Loss',\n",
    "    \n",
    "#     \"expl/Average Returns\",\n",
    "    'expl/state_desired_goal/final/overall_success Mean',\n",
    "\n",
    "#     \"eval/Average Returns\",\n",
    "#    'eval/state_desired_goal/final/overall_success Mean',\n",
    "],\n",
    "           vary,\n",
    "             split,\n",
    "           default_vary=default_vary,\n",
    "          smooth=plot.padded_ma_filter(10),\n",
    "           figsize=(12, 8),\n",
    "           print_max=False,\n",
    "#             xlim=(-100, 150),\n",
    "           ylim=(0.0, 1.0),\n",
    "           #ylim=(-400, 0),\n",
    "#            ylim=(-.2, .2),\n",
    "#            method_order=(0, 2, 1),\n",
    "           plot_seeds=True,\n",
    "           plot_error_bars=False,\n",
    "          print_final=False, print_min=False, print_plot=True, xlabel='epoch')# bar_plot=False)"
   ]
  }
 ],
 "metadata": {
  "kernelspec": {
   "display_name": "Python 3",
   "language": "python",
   "name": "python3"
  },
  "language_info": {
   "codemirror_mode": {
    "name": "ipython",
    "version": 3
   },
   "file_extension": ".py",
   "mimetype": "text/x-python",
   "name": "python",
   "nbconvert_exporter": "python",
   "pygments_lexer": "ipython3",
   "version": "3.7.5"
  }
 },
 "nbformat": 4,
 "nbformat_minor": 4
}
